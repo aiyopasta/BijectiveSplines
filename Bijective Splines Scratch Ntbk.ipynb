{
 "cells": [
  {
   "cell_type": "markdown",
   "id": "df0fb579",
   "metadata": {},
   "source": [
    "## Bijective Splines Scratch Ntbk"
   ]
  },
  {
   "cell_type": "code",
   "execution_count": 4,
   "id": "8b52c1ea",
   "metadata": {},
   "outputs": [
    {
     "data": {
      "text/plain": [
       "-2.0"
      ]
     },
     "execution_count": 4,
     "metadata": {},
     "output_type": "execute_result"
    }
   ],
   "source": [
    "import numpy as np\n",
    "\n",
    "v1, v2 = np.array([1, 1]), np.array([1, -1])\n",
    "np.linalg.det([v1, v2])"
   ]
  },
  {
   "cell_type": "code",
   "execution_count": null,
   "id": "29e9b358",
   "metadata": {},
   "outputs": [],
   "source": []
  }
 ],
 "metadata": {
  "kernelspec": {
   "display_name": "Python 3 (ipykernel)",
   "language": "python",
   "name": "python3"
  },
  "language_info": {
   "codemirror_mode": {
    "name": "ipython",
    "version": 3
   },
   "file_extension": ".py",
   "mimetype": "text/x-python",
   "name": "python",
   "nbconvert_exporter": "python",
   "pygments_lexer": "ipython3",
   "version": "3.10.0"
  }
 },
 "nbformat": 4,
 "nbformat_minor": 5
}
